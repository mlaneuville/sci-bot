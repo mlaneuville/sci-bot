{
 "cells": [
  {
   "cell_type": "code",
   "execution_count": 1,
   "metadata": {},
   "outputs": [],
   "source": [
    "from bs4 import BeautifulSoup\n",
    "from glob import glob\n",
    "import json\n",
    "import os\n",
    "import re\n",
    "import nltk"
   ]
  },
  {
   "cell_type": "code",
   "execution_count": 2,
   "metadata": {},
   "outputs": [
    {
     "name": "stdout",
     "output_type": "stream",
     "text": [
      "1711\n"
     ]
    }
   ],
   "source": [
    "# prep work\n",
    "fnames = []\n",
    "for root, dirs, files in os.walk(\"pdf\"):\n",
    "    for fn in files:\n",
    "        if fn.endswith('.json'):\n",
    "            base = os.path.join(root, ''.join(fn.split('.')[:-1]))\n",
    "            if os.path.isfile(base+'.json') and os.path.isfile(base+'.tei.xml'):\n",
    "                fnames.append(os.path.join(root, fn.replace('tei.xml', 'json')))\n",
    "            \n",
    "DBDOI = {}\n",
    "for fn in fnames:\n",
    "    with open(fn, 'r') as fp:\n",
    "        data = json.load(fp)\n",
    "        if data['abstract'] is not None:\n",
    "            DBDOI[data['bibcode']] = {\n",
    "                'fname': fn,\n",
    "                'title': data['title']\n",
    "            }\n",
    "print(len(DBDOI))"
   ]
  },
  {
   "cell_type": "code",
   "execution_count": 3,
   "metadata": {},
   "outputs": [],
   "source": [
    "def get_references(fname, title, ctx=100):\n",
    "    \n",
    "    with open(fn_rawtext, 'r') as fp:\n",
    "        raw = fp.read()\n",
    "    rawsoup = BeautifulSoup(raw, 'lxml')\n",
    "    \n",
    "    bibid = []\n",
    "    for bib in rawsoup.body.find_all('biblstruct'):\n",
    "        if 'xml:id' in bib.attrs.keys():\n",
    "            #print(title, bib.title.get_text())\n",
    "            if title == bib.title.get_text():\n",
    "                bibid = bib.attrs['xml:id']\n",
    "    if len(bibid) == 0:\n",
    "        return []\n",
    "        \n",
    "    pos = re.finditer(bibid, str(rawsoup.body))\n",
    "    print(len(list(pos)))\n",
    "    pos = re.finditer(bibid, str(rawsoup.body))\n",
    "\n",
    "    refs = []\n",
    "    for p in pos:\n",
    "        rawctx = str(rawsoup.body)[max(0,p.start()-ctx):min(len(str(rawsoup.body)),p.end()+ctx)]\n",
    "        soup = BeautifulSoup(rawctx, 'lxml')\n",
    "\n",
    "        if 'biblstruct' in rawctx or len(soup.get_text().strip()) == 0:\n",
    "            # this is the bibliography entry\n",
    "            continue\n",
    "            \n",
    "        datablock = {\n",
    "            'paperid': summary['bibcode'],\n",
    "            'context': soup.get_text(),\n",
    "            'cited': soup.find_all(\"ref\", attrs={\"type\":\"bibr\", \"target\":\"#%s\" % bibid})[0].get_text(),\n",
    "            'otherid': [idx for idx in summary['reference'] if idx in DBDOI.keys()]\n",
    "        }\n",
    "        refs.append(datablock)\n",
    "    return refs"
   ]
  },
  {
   "cell_type": "code",
   "execution_count": 4,
   "metadata": {},
   "outputs": [],
   "source": [
    "# Case 1: provide a doi\n",
    "# Case 2: provide a search term"
   ]
  },
  {
   "cell_type": "code",
   "execution_count": 5,
   "metadata": {},
   "outputs": [
    {
     "name": "stdout",
     "output_type": "stream",
     "text": [
      "Title: Asymmetric thermal evolution of the Moon\n",
      "Abstract: The Moon possesses a clear dichotomy in geological processes between the nearside and farside hemispheres. The most pronounced expressions of this dichotomy are the strong concentration of radioactive heat sources on the nearside in a region known as the Procellarum KREEP Terrane (PKT) and the mare basaltic lava flows that erupted in or adjacent to this terrane. We model the thermochemical evolution of the Moon using a 3-D spherical thermochemical convection code in order to assess the consequences of a layer enriched in heat sources below the PKT on the Moon's global evolution. We find that in addition to localizing most of the melt production on the nearside, such an enriched concentration of heat sources in the PKT crust has an influence down to the core-mantle boundary and leaves a present-day temperature anomaly within the nearside mantle. Moderate gravitational and topographic anomalies that are predicted in the PKT, but not observed, may be masked either by crustal thinning or gravitational anomalies from dense material in the underlying mantle. Our models also predict crystallization of an inner core for sulfur concentrations less than 6 wt %. <P />\n",
      "References: 76\n",
      "Citations: 88\n"
     ]
    }
   ],
   "source": [
    "# Case 1: provide a doi\n",
    "target = \"10.1002/2013JE004555\"\n",
    "target = \"10.1002/jgre.20103\"\n",
    "#target = \"10.1089/ast.2017.1700\"\n",
    "\n",
    "with open(\"pdf/\"+target+\".json\", \"r\") as f:\n",
    "    summary = json.load(f)\n",
    "\n",
    "print(\"Title: %s\" % summary['title'])\n",
    "print(\"Abstract: %s\" % summary['abstract'])\n",
    "print(\"References: %d\" % len(summary['reference']))\n",
    "print(\"Citations: %d\" % len(summary['citation']))"
   ]
  },
  {
   "cell_type": "code",
   "execution_count": 6,
   "metadata": {},
   "outputs": [
    {
     "name": "stdout",
     "output_type": "stream",
     "text": [
      "Citing paper: Structure and evolution of the lunar Procellarum region as revealed by GRAIL gravity data\n",
      "12\n",
      "m the high crustal concentrations of heat-producing elements [10][11][12] . The region encompasses the majority of the Moon's mare basalt provin\n",
      " lithosphere. Although early convection beneath the PKT was possible 12 , this convection would have had only a second-order effect on the tem\n",
      "ured a 10-km-thick layer of KREEP basalt at the base of the crust 10,12 , but other workers have argued that this scenario is not compatible w\n",
      " 0.14 p.p.m. and 6.8 p.p.b. in the crust and mantle, respectively 10,12 . We assumed a K/U ratio of 2,500 and a Th/U ratio of 3.7 in all mater\n",
      "                                   crust and mantle, respectively 10,12 . We assumed a K/U ratio of 2,500 and a Th/U ratio of 3.7 in all mater\n",
      "fferent ratios between the concentrations of heat-producing elements 12 and the neglect of latent heat and melt extraction effects in this stu\n",
      "sistence of mantle convection throughout the time period of interest 12 would affect the distribution of temperature with depth in the mantle \n",
      "he thinning of the crust within the PKT 2 , and loading by the maria 12 . The excess basal pressure far from the PKT, representing the effects\n",
      "nal stresses arising from uplift or subsidence of the lithosphere 11,12 and magmatic processes would have also probably played a role.Zones fa\n",
      "econcile with the observed long-wavelength gravity and topography 11,12 . However, the gravity and topography within the PKT are also probably\n",
      "the crust and by possible density anomalies in the underlying mantle 12 . The low topography within the PKT may also be affected by a reductio\n",
      "\n",
      "Citing paper: Thermochemical constraints on the thermal state, composition, and mineralogy of the upper mantle of the Moon: Evidence from the seismic models\n",
      "5\n",
      "en and Ras mussen, 1987;Kronrod and Kuskov, 1997;Shearer et al., 2006;Laneuville et al., 2013;Zhang et al., 2013;Siegler and Smrekar, 2014 Kronrod;, the thermal sta\n",
      "  and Kuskov, 2011;Garcia et al., 2011;Weber et al., 2011;Grimm, 2013;Laneuville et al., 2013;Zhang et al., 2013). Additional limitations on the sizes and structure\n",
      "ures are not consistent with the thermal models (Hood and Jones, 1987;Laneuville et al., 2013;Zhang et al., 2013). The seis mic properties, Q factor (very high valu\n",
      "ysicalthermodynamic modeling (Khan et al., 2007), and thermal models (Laneuville et al., 2013;Zhang et al., 2013). The temperatures determined by V P from the model \n",
      "\n",
      "Citing paper: Tectonic evolution of northwestern Imbrium of the Moon that lasted in the Copernican Period\n",
      "Citing paper: Numerical studies on convective stability and flow pattern in three-dimensional spherical mantle of terrestrial planets\n",
      "8\n",
      "    & Tackley 2009;Zhong 2009;Deschamps et al. 2010;Noack et al. 2012;Laneuville et al. 2013;Tosi et al. 2013;Zhang et al. 2013;Yao et al. 2014;                   \n",
      "    & Tackley 2009;Zhong 2009;Deschamps et al. 2010;Noack et al. 2012;Laneuville et al. 2013;Tosi et al. 2013;Zhang et al. 2013;Yao et al. 2014;                   \n",
      " the Moon either because HPEs are distributed over the entire mantle (Laneuville et al. 2013) or because there is a compositionally dense layer enriched in HPEs on \n",
      "earlier models of lunar mantle convection driven by internal heating (Laneuville et al. 2013;Zhang et al. 2013) that are calculated at the parameter values shown in\n",
      " heating.As indicated by the orange arrow in the figure, the model of Laneuville et al. (2013) is calculated at Ra below R c . Convection persists for the calculate\n",
      "l Rayleigh number and convective flow patterns presented in Figs 1-4, Laneuville et al. (2013), and Zhang et al. (2013) suggest that the occurrence and style of con\n",
      "ues assumed in earlier numerical models of lunar mantle convection by Laneuville et al. (2013) (the orange arrow) and by Zhang et al. (2013) (the orange circles) pl\n",
      "\n",
      "Citing paper: Elastic tidal response of a laterally heterogeneous planet: a complete perturbation formulation\n",
      "5\n",
      " the deep interiors of these planetary bodies (e.g. Zhong et al. 2000;Laneuville et al. 2013). Therefore, imaging the interior structures and constraining the inte\n",
      "heterogeneities, from a dynamic point of view (e.g. Zhong et al. 2000;Laneuville et al. 2013). More interestingly, recent analyses on deep seismicity in the lunar \n",
      "oduces less than 1 per cent density variation in different models. In Laneuville et al. (2013), long-term thermal convections can cause on average a less than 2 per\n",
      "tle convection in the Moon is purely thermally driven, as proposed by Laneuville et al. (2013), the degree-1 component of hotter and less dense upwelling (i.e. smal\n",
      "\n",
      "Citing paper: GRAIL, LLR, and LOLA constraints on the interior structure of the Moon\n",
      "3\n",
      "ature increase of ∼1000 K between top and bottom of the lunar mantle [Laneuville et al., 2013], and the effect of thermal expansion on the density largely offsets th\n",
      "ly extends to the interior [e.g., Qin et al., 2012;Zhang et al., 2013;Laneuville et al., 2013], and this affects the Moon's response to tidal forcing [Qin et al., 2\n",
      "\n",
      "Citing paper: Thicknesses of mare basalts on the Moon from gravity and topography\n",
      "3\n",
      "crust and mantle [Wieczorek and Phillips, 2000;Wieczorek et al., 2001;Laneuville et al., 2013]. The iron-rich composition of mare basalts not only gives rise to the\n",
      "  2001;Konrad and Spohn, 1997;Spohn et al., 2001;Shearer et al., 2006;Laneuville et al., 2013]. The thickness of mare basalts also provides crucial information on l\n",
      "\n",
      "Citing paper: Subsurface morphology and scaling of lunar impact basins\n",
      "5\n",
      "control on target strength [Ivanov et al., 2010;Potter et al., 2012a; Laneuville et al. [2013]. These models account for the asymmetric distribution of crustal heat\n",
      "e profiles were adopted from the 3D lunar thermal-evolution models of Laneuville et al. [2013]. The dashed lines (TP1, TP2, and TP3) show the temperature profiles u\n",
      "the crust as the initial condition in the thermal evolution models of Laneuville et al. [2013], also applied in this study.We applied the upgraded scaling relations\n",
      " al., 2000;Korotev, 2000;Zhong et al., 2000;Hess and Permentier, 2001;Laneuville et al., 2013]. Also, basins like the Crisium basin ( Figure S2) and the Moscoviense\n",
      "\n",
      "Citing paper: Lunar true polar wander inferred from polar hydrogen\n",
      "19\n"
     ]
    },
    {
     "ename": "IndexError",
     "evalue": "list index out of range",
     "output_type": "error",
     "traceback": [
      "\u001b[0;31m---------------------------------------------------------------------------\u001b[0m",
      "\u001b[0;31mIndexError\u001b[0m                                Traceback (most recent call last)",
      "\u001b[0;32m<ipython-input-6-fbf2f44ed613>\u001b[0m in \u001b[0;36m<module>\u001b[0;34m\u001b[0m\n\u001b[1;32m      4\u001b[0m         \u001b[0mprint\u001b[0m\u001b[0;34m(\u001b[0m\u001b[0;34m\"Citing paper: %s\"\u001b[0m \u001b[0;34m%\u001b[0m \u001b[0mDBDOI\u001b[0m\u001b[0;34m[\u001b[0m\u001b[0mciting\u001b[0m\u001b[0;34m]\u001b[0m\u001b[0;34m[\u001b[0m\u001b[0;34m'title'\u001b[0m\u001b[0;34m]\u001b[0m\u001b[0;34m)\u001b[0m\u001b[0;34m\u001b[0m\u001b[0;34m\u001b[0m\u001b[0m\n\u001b[1;32m      5\u001b[0m         \u001b[0mfn_rawtext\u001b[0m \u001b[0;34m=\u001b[0m \u001b[0mDBDOI\u001b[0m\u001b[0;34m[\u001b[0m\u001b[0mciting\u001b[0m\u001b[0;34m]\u001b[0m\u001b[0;34m[\u001b[0m\u001b[0;34m'fname'\u001b[0m\u001b[0;34m]\u001b[0m\u001b[0;34m[\u001b[0m\u001b[0;34m:\u001b[0m\u001b[0;34m-\u001b[0m\u001b[0;36m5\u001b[0m\u001b[0;34m]\u001b[0m \u001b[0;34m+\u001b[0m \u001b[0;34m'.tei.xml'\u001b[0m\u001b[0;34m\u001b[0m\u001b[0;34m\u001b[0m\u001b[0m\n\u001b[0;32m----> 6\u001b[0;31m         \u001b[0mres\u001b[0m \u001b[0;34m=\u001b[0m \u001b[0mget_references\u001b[0m\u001b[0;34m(\u001b[0m\u001b[0mDBDOI\u001b[0m\u001b[0;34m[\u001b[0m\u001b[0mciting\u001b[0m\u001b[0;34m]\u001b[0m\u001b[0;34m[\u001b[0m\u001b[0;34m'fname'\u001b[0m\u001b[0;34m]\u001b[0m\u001b[0;34m,\u001b[0m \u001b[0msummary\u001b[0m\u001b[0;34m[\u001b[0m\u001b[0;34m'title'\u001b[0m\u001b[0;34m]\u001b[0m\u001b[0;34m,\u001b[0m \u001b[0mctx\u001b[0m\u001b[0;34m=\u001b[0m\u001b[0;36m200\u001b[0m\u001b[0;34m)\u001b[0m\u001b[0;34m\u001b[0m\u001b[0;34m\u001b[0m\u001b[0m\n\u001b[0m\u001b[1;32m      7\u001b[0m \u001b[0;34m\u001b[0m\u001b[0m\n\u001b[1;32m      8\u001b[0m         \u001b[0;32mif\u001b[0m \u001b[0mlen\u001b[0m\u001b[0;34m(\u001b[0m\u001b[0mres\u001b[0m\u001b[0;34m)\u001b[0m \u001b[0;34m>\u001b[0m \u001b[0;36m0\u001b[0m\u001b[0;34m:\u001b[0m\u001b[0;34m\u001b[0m\u001b[0;34m\u001b[0m\u001b[0m\n",
      "\u001b[0;32m<ipython-input-3-8ee01213d412>\u001b[0m in \u001b[0;36mget_references\u001b[0;34m(fname, title, ctx)\u001b[0m\n\u001b[1;32m     30\u001b[0m             \u001b[0;34m'paperid'\u001b[0m\u001b[0;34m:\u001b[0m \u001b[0msummary\u001b[0m\u001b[0;34m[\u001b[0m\u001b[0;34m'bibcode'\u001b[0m\u001b[0;34m]\u001b[0m\u001b[0;34m,\u001b[0m\u001b[0;34m\u001b[0m\u001b[0;34m\u001b[0m\u001b[0m\n\u001b[1;32m     31\u001b[0m             \u001b[0;34m'context'\u001b[0m\u001b[0;34m:\u001b[0m \u001b[0msoup\u001b[0m\u001b[0;34m.\u001b[0m\u001b[0mget_text\u001b[0m\u001b[0;34m(\u001b[0m\u001b[0;34m)\u001b[0m\u001b[0;34m,\u001b[0m\u001b[0;34m\u001b[0m\u001b[0;34m\u001b[0m\u001b[0m\n\u001b[0;32m---> 32\u001b[0;31m             \u001b[0;34m'cited'\u001b[0m\u001b[0;34m:\u001b[0m \u001b[0msoup\u001b[0m\u001b[0;34m.\u001b[0m\u001b[0mfind_all\u001b[0m\u001b[0;34m(\u001b[0m\u001b[0;34m\"ref\"\u001b[0m\u001b[0;34m,\u001b[0m \u001b[0mattrs\u001b[0m\u001b[0;34m=\u001b[0m\u001b[0;34m{\u001b[0m\u001b[0;34m\"type\"\u001b[0m\u001b[0;34m:\u001b[0m\u001b[0;34m\"bibr\"\u001b[0m\u001b[0;34m,\u001b[0m \u001b[0;34m\"target\"\u001b[0m\u001b[0;34m:\u001b[0m\u001b[0;34m\"#%s\"\u001b[0m \u001b[0;34m%\u001b[0m \u001b[0mbibid\u001b[0m\u001b[0;34m}\u001b[0m\u001b[0;34m)\u001b[0m\u001b[0;34m[\u001b[0m\u001b[0;36m0\u001b[0m\u001b[0;34m]\u001b[0m\u001b[0;34m.\u001b[0m\u001b[0mget_text\u001b[0m\u001b[0;34m(\u001b[0m\u001b[0;34m)\u001b[0m\u001b[0;34m,\u001b[0m\u001b[0;34m\u001b[0m\u001b[0;34m\u001b[0m\u001b[0m\n\u001b[0m\u001b[1;32m     33\u001b[0m             \u001b[0;34m'otherid'\u001b[0m\u001b[0;34m:\u001b[0m \u001b[0;34m[\u001b[0m\u001b[0midx\u001b[0m \u001b[0;32mfor\u001b[0m \u001b[0midx\u001b[0m \u001b[0;32min\u001b[0m \u001b[0msummary\u001b[0m\u001b[0;34m[\u001b[0m\u001b[0;34m'reference'\u001b[0m\u001b[0;34m]\u001b[0m \u001b[0;32mif\u001b[0m \u001b[0midx\u001b[0m \u001b[0;32min\u001b[0m \u001b[0mDBDOI\u001b[0m\u001b[0;34m.\u001b[0m\u001b[0mkeys\u001b[0m\u001b[0;34m(\u001b[0m\u001b[0;34m)\u001b[0m\u001b[0;34m]\u001b[0m\u001b[0;34m\u001b[0m\u001b[0;34m\u001b[0m\u001b[0m\n\u001b[1;32m     34\u001b[0m         }\n",
      "\u001b[0;31mIndexError\u001b[0m: list index out of range"
     ]
    }
   ],
   "source": [
    "# citing papers\n",
    "for citing in summary['citation']:\n",
    "    if citing in DBDOI.keys():\n",
    "        print(\"Citing paper: %s\" % DBDOI[citing]['title'])\n",
    "        fn_rawtext = DBDOI[citing]['fname'][:-5] + '.tei.xml'\n",
    "        res = get_references(DBDOI[citing]['fname'], summary['title'], ctx=200)\n",
    "\n",
    "        if len(res) > 0:\n",
    "            for c in res:\n",
    "                \n",
    "                idx = c['context'].find(c['cited'])\n",
    "                if re.match('^[^a-zA-Z]', c['cited']):\n",
    "                    idx += 1\n",
    "                print(\"{:>70s}{}{:<70s}\".format(c['context'][max(0, idx-70):idx], \n",
    "                                                c['context'][idx:idx+len(c['cited'])], \n",
    "                                                c['context'][idx+len(c['cited']):min(len(c['context']),idx+len(c['cited'])+70)]))\n",
    "            print()"
   ]
  },
  {
   "cell_type": "code",
   "execution_count": null,
   "metadata": {},
   "outputs": [],
   "source": []
  },
  {
   "cell_type": "code",
   "execution_count": null,
   "metadata": {},
   "outputs": [],
   "source": []
  }
 ],
 "metadata": {
  "kernelspec": {
   "display_name": "Python 3",
   "language": "python",
   "name": "python3"
  },
  "language_info": {
   "codemirror_mode": {
    "name": "ipython",
    "version": 3
   },
   "file_extension": ".py",
   "mimetype": "text/x-python",
   "name": "python",
   "nbconvert_exporter": "python",
   "pygments_lexer": "ipython3",
   "version": "3.7.3"
  }
 },
 "nbformat": 4,
 "nbformat_minor": 4
}
